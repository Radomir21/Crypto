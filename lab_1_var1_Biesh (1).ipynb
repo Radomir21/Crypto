{
 "cells": [
  {
   "cell_type": "code",
   "execution_count": 1,
   "id": "3c27e34f-909a-4b7c-a06d-53c916696409",
   "metadata": {},
   "outputs": [
    {
     "name": "stdout",
     "output_type": "stream",
     "text": [
      "Defining x0, x1, x2, x3, x4, x5, x6, x7, x8, x9, x10, x11, x12, x13, x14, x15, x16, x17, x18, x19, x20, x21, x22, x23, x24, x25, x26, x27, x28, x29, x30, x31, x32, x33, x34, x35, x36, x37, x38, x39, x40, x41, x42, x43, x44, x45, x46, x47, x48, x49, x50, x51, x52, x53, x54, x55, x56, x57, x58, x59, x60, x61, x62, x63\n",
      "x57*x56*x53*x52*x49*x48*x46*x41*x39*x38*x37*x29*x26*x25*x23*x20*x6*x5*x3*x1*x0 + x57*x53*x52*x49*x48*x47*x46*x41*x39*x38*x37*x29*x26*x25*x23*x20*x6*x3*x1*x0 + x57*x53*x52*x49*x48*x47*x46*x41*x39*x37*x29*x26*x25*x23*x20*x6*x3*x1*x0 + x57*x53*x52*x49*x48*x46*x41*x39*x31*x29*x26*x25*x23*x20*x6*x3*x1*x0 + x53*x52*x49*x48*x46*x41*x39*x31*x29*x26*x25*x23*x20*x6*x3*x1*x0 + x53*x52*x49*x48*x46*x41*x39*x29*x25*x23*x20*x14*x6*x3*x1*x0 + x53*x52*x49*x48*x46*x41*x39*x29*x26*x25*x23*x20*x6*x3*x1*x0 + x53*x52*x49*x48*x41*x39*x29*x25*x23*x20*x14*x6*x3*x1*x0 + x53*x52*x49*x48*x41*x39*x34*x29*x25*x23*x20*x6*x3*x1*x0 + x53*x52*x49*x48*x46*x41*x39*x29*x25*x23*x20*x6*x3*x1*x0 + x53*x52*x49*x41*x39*x34*x29*x25*x23*x20*x6*x3*x1*x0 + x53*x52*x49*x48*x41*x39*x29*x25*x23*x20*x6*x3*x1*x0 + x58*x53*x52*x49*x41*x39*x29*x25*x23*x20*x6*x3*x1*x0 + x53*x52*x49*x41*x39*x29*x25*x23*x20*x6*x3*x1*x0 + x53*x52*x49*x42*x41*x39*x29*x25*x23*x6*x3*x1*x0 + x58*x53*x52*x49*x41*x39*x29*x25*x23*x6*x3*x1*x0 + x53*x52*x49*x42*x41*x39*x29*x25*x23*x6*x3*x0 + x62*x53*x52*x49*x41*x39*x29*x25*x23*x6*x3*x0 + x53*x52*x49*x39*x29*x25*x23*x11*x6*x3*x0 + x53*x52*x49*x41*x39*x29*x25*x23*x6*x3*x0 + x62*x53*x52*x49*x39*x29*x25*x23*x6*x3*x0 + x52*x49*x39*x29*x25*x23*x11*x6*x3*x0 + x53*x52*x49*x39*x29*x25*x23*x6*x3*x0 + x52*x39*x29*x25*x23*x22*x6*x3*x0 + x52*x49*x39*x29*x25*x23*x6*x3*x0 + x52*x39*x29*x25*x23*x6*x3*x0 + x52*x39*x29*x25*x23*x21*x6*x0 + x52*x39*x29*x25*x23*x22*x6*x0 + x52*x39*x29*x25*x23*x21*x0 + x52*x39*x32*x29*x25*x23*x0 + x52*x39*x29*x25*x23*x0 + x52*x39*x32*x29*x25*x0 + x62*x52*x39*x29*x25*x0 + x52*x48*x39*x29*x0 + x62*x52*x39*x29*x0 + x52*x39*x29*x0 + x52*x46*x39*x0 + x52*x48*x39*x0 + x52*x5*x0 + x52*x39*x0 + x52*x46*x0 + x5*x0 + x52*x0 + x53*x0 + x53 + 1\n",
      "_________________________________________________________\n",
      "[1, 0, 1, 0, 0, 0, 1, 0, 1, 1, 0, 1, 0, 0, 0, 0, 0, 1, 0, 0]\n",
      "_________________________________________________________\n",
      "Groebner Basis for I: Polynomial Sequence with 2239 Polynomials in 32 Variables\n",
      "_________________________________________________________\n",
      "Time: 628.55 seconds.\n",
      "_________________________________________________________\n",
      "Groebner Basis for I + 1: Polynomial Sequence with 2239 Polynomials in 32 Variables\n",
      "_________________________________________________________\n",
      "Time: 6.27 seconds.\n"
     ]
    }
   ],
   "source": [
    "import time\n",
    "\n",
    "B = BooleanPolynomialRing(64, 'x', order='degrevlex')\n",
    "B.inject_variables()\n",
    "\n",
    "with open('V1FF.txt') as file:  \n",
    "    f_function = file.read().replace('_{', '').replace('} x', '*x').replace('} +', '+')\n",
    "    f_function = eval(f_function)\n",
    "    \n",
    "with open('V1G.txt') as file:  \n",
    "    gamma_bits = file.read()\n",
    "    seq_gamma = [int(bit) for bit in gamma_bits.strip()]\n",
    "\n",
    "print(f_function)\n",
    "print(\"_________________________________________________________\")\n",
    "print(seq_gamma[:20])\n",
    "print(\"_________________________________________________________\")\n",
    "\n",
    "\n",
    "feedback_poly = B['x']('x^64 + x^63 + x^62 + x^60 + x^59 + x^58 + x^57 + x^56 + x^53 + '\n",
    "                  'x^50 + x^47 + x^45 + x^44 + x^43 + x^42 + x^41 + x^40 + x^39 + '\n",
    "                  'x^38 + x^37 + x^36 + x^34 + x^32 + x^30 + x^28 + x^24 + x^18 + '\n",
    "                  'x^15 + x^14 + x^13 + x^11 + x^9 + x^6 + x^4 + 1')\n",
    "\n",
    "start_time = time.time()\n",
    "I = Ideal(f_function)\n",
    "GB = I.groebner_basis()\n",
    "print(\"Groebner Basis for I:\", GB)\n",
    "print(\"_________________________________________________________\")\n",
    "end_time = time.time()\n",
    "print(\"Time: {:.2f} seconds.\".format(end_time - start_time))\n",
    "print(\"_________________________________________________________\")\n",
    "\n",
    "\n",
    "start_time = time.time()\n",
    "I_1 = Ideal(f_function + 1)\n",
    "GB_1 = I_1.groebner_basis()\n",
    "print(\"Groebner Basis for I + 1:\", GB_1)\n",
    "print(\"_________________________________________________________\")\n",
    "end_time = time.time()\n",
    "print(\"Time: {:.2f} seconds.\".format(end_time - start_time))"
   ]
  },
  {
   "cell_type": "code",
   "execution_count": 2,
   "id": "ebeff83d-4c59-4262-90e0-b8b8e89c7c9b",
   "metadata": {},
   "outputs": [
    {
     "name": "stdout",
     "output_type": "stream",
     "text": [
      "Found 1 polynomial(s) of minimum degree 2:\n",
      "1: x53*x0 + x0 + x53 + 1\n",
      "_____________________________________________________\n",
      "Found 1 polynomial(s) of minimum degree 2:\n",
      "1: x53*x0 + x53\n",
      "_____________________________________________________\n",
      "Time for finding min-degree polynomials: 0.02 seconds\n",
      "(from GB): x53*x0 + x0 + x53 + 1\n",
      "(from GB_1): x53*x0 + x53\n"
     ]
    }
   ],
   "source": [
    "def get_min_degree_polynomials(GB, print_result=True):\n",
    "    if not GB:\n",
    "        return []\n",
    "\n",
    "    min_degree = min(poly.degree() for poly in GB)\n",
    "    min_polys = [poly for poly in GB if poly.degree() == min_degree]\n",
    "    \n",
    "    if print_result:\n",
    "        print(f\"Found {len(min_polys)} polynomial(s) of minimum degree {min_degree}:\")\n",
    "        for i, poly in enumerate(min_polys, 1):\n",
    "            print(f\"{i}: {poly}\")\n",
    "        print(\"_____________________________________________________\")\n",
    "    \n",
    "    return min_polys\n",
    "\n",
    "\n",
    "start_time = time.time()\n",
    "min_polys_GB = get_min_degree_polynomials(GB)\n",
    "min_polys_GB_1 = get_min_degree_polynomials(GB_1)\n",
    "end_time = time.time()\n",
    "\n",
    "print(\"Time for finding min-degree polynomials: {:.2f} seconds\".format(end_time - start_time))\n",
    "\n",
    "min_poly_f = min_polys_GB[0]\n",
    "min_poly_f1 = min_polys_GB_1[0]\n",
    "print(f\"(from GB): {min_poly_f}\")\n",
    "print(f\"(from GB_1): {min_poly_f1}\")\n"
   ]
  },
  {
   "cell_type": "code",
   "execution_count": 3,
   "id": "32052e40-1449-4b47-83c0-1dc2d073d117",
   "metadata": {},
   "outputs": [
    {
     "name": "stdout",
     "output_type": "stream",
     "text": [
      "_________________________________________________________\n",
      "Time: 2.74 seconds.\n",
      "_________________________________________________________\n",
      "x54*x1 + x54\n",
      "x55*x2 + x2 + x55 + 1\n",
      "x56*x3 + x56\n",
      "x57*x4 + x4 + x57 + 1\n",
      "x58*x5 + x5 + x58 + 1\n",
      "x59*x6 + x6 + x59 + 1\n",
      "x60*x7 + x60\n",
      "x61*x8 + x8 + x61 + 1\n",
      "x62*x9 + x62\n",
      "x63*x10 + x63\n"
     ]
    }
   ],
   "source": [
    "def gen_equations(C, init_state, min_poly, min_poly_plus1, gamma_bits):\n",
    "    equations = []\n",
    "    state = init_state\n",
    "    for bit in gamma_bits:\n",
    "        state = C * state\n",
    "        poly = min_poly_plus1 if bit == 1 else min_poly\n",
    "        equations.append(poly(*state))\n",
    "    return equations\n",
    "\n",
    "C = companion_matrix(feedback_poly, format='bottom')\n",
    "init_state = vector(B, [B(f'x{i}') for i in range(64)])\n",
    "\n",
    "print(\"_________________________________________________________\")\n",
    "start_time = time.time()\n",
    "equations = gen_equations(C, init_state, min_poly_f, min_poly_f1, seq_gamma[:1000])\n",
    "end_time = time.time()\n",
    "print(\"Time: {:.2f} seconds.\".format(end_time - start_time))\n",
    "print(\"_________________________________________________________\")\n",
    "\n",
    "for eq in equations[:10]:\n",
    "    print(eq)\n"
   ]
  },
  {
   "cell_type": "code",
   "execution_count": 4,
   "id": "6ede22f1-33d0-459f-872c-851a0988f97a",
   "metadata": {},
   "outputs": [
    {
     "name": "stdout",
     "output_type": "stream",
     "text": [
      "Time: 54.18 seconds.\n",
      "_________________________________________________________\n",
      "x0\n",
      "x1 + 1\n",
      "x2\n",
      "x3\n",
      "x4 + 1\n",
      "x5 + 1\n",
      "x6 + 1\n",
      "x7\n",
      "x8\n",
      "x9 + 1\n",
      "x10 + 1\n",
      "x11 + 1\n",
      "x12 + 1\n",
      "x13\n",
      "x14 + 1\n",
      "x15\n",
      "x16\n",
      "x17\n",
      "x18 + 1\n",
      "x19 + 1\n",
      "x20\n",
      "x21 + 1\n",
      "x22\n",
      "x23\n",
      "x24 + 1\n",
      "x25 + 1\n",
      "x26\n",
      "x27 + 1\n",
      "x28 + 1\n",
      "x29\n",
      "x30 + 1\n",
      "x31 + 1\n",
      "x32 + 1\n",
      "x33 + 1\n",
      "x34 + 1\n",
      "x35 + 1\n",
      "x36 + 1\n",
      "x37 + 1\n",
      "x38\n",
      "x39 + 1\n",
      "x40\n",
      "x41\n",
      "x42 + 1\n",
      "x43 + 1\n",
      "x44\n",
      "x45 + 1\n",
      "x46 + 1\n",
      "x47 + 1\n",
      "x48\n",
      "x49 + 1\n",
      "x50 + 1\n",
      "x51\n",
      "x52 + 1\n",
      "x53 + 1\n",
      "x54\n",
      "x55 + 1\n",
      "x56\n",
      "x57 + 1\n",
      "x58 + 1\n",
      "x59 + 1\n",
      "x60\n",
      "x61 + 1\n",
      "x62\n",
      "x63 + 1\n"
     ]
    }
   ],
   "source": [
    "start_time = time.time()\n",
    "GB_start = Ideal(equations).groebner_basis()\n",
    "end_time = time.time()\n",
    "print(\"Time: {:.2f} seconds.\".format(end_time - start_time))\n",
    "print(\"_________________________________________________________\")\n",
    "\n",
    "for i in GB_start:\n",
    "\tprint(i)"
   ]
  },
  {
   "cell_type": "code",
   "execution_count": 6,
   "id": "ba755b39-018e-4f12-ba3d-0903aa6bfef2",
   "metadata": {},
   "outputs": [
    {
     "name": "stdout",
     "output_type": "stream",
     "text": [
      "Recovered binary string: 0100111001111010001101001101101111111101001101110110110101110101\n"
     ]
    }
   ],
   "source": [
    "binary_string = ['0' for i in range(64)]\n",
    "\n",
    "for poly in GB_start:\n",
    "    poly_str = str(poly).replace(' ', '')  \n",
    "    if poly_str.startswith('x'):\n",
    "        if '+1' in poly_str:\n",
    "            index = int(poly_str[1:].split('+')[0])\n",
    "            binary_string[index] = '1'\n",
    "        else:\n",
    "            index = int(poly_str[1:])\n",
    "            binary_string[index] = '0'\n",
    "\n",
    "binary_string = ''.join(binary_string)\n",
    "print(\"Recovered binary string:\", binary_string)"
   ]
  },
  {
   "cell_type": "code",
   "execution_count": 7,
   "id": "23e0c972-7841-40a3-be74-1cc40d2c3aa6",
   "metadata": {},
   "outputs": [
    {
     "name": "stdout",
     "output_type": "stream",
     "text": [
      "Time: 106.43 seconds.\n",
      "_________________________________________________________\n",
      "State is recovered correctly: True\n"
     ]
    }
   ],
   "source": [
    "test_state = vector(B, binary_string)\n",
    "state_is_recovered = True\n",
    "\n",
    "start_time = time.time()\n",
    "for i in range(len(seq_gamma)):\n",
    "    test_state = C * test_state\n",
    "    expected_bit = int(seq_gamma[i])\n",
    "    computed_bit = int(f_function(*test_state))\n",
    "    \n",
    "    if expected_bit != computed_bit:\n",
    "        print(f\"Mismatch at position {i}: expected {expected_bit}, got {computed_bit}\")\n",
    "        state_is_recovered = False\n",
    "        break\n",
    "end_time = time.time()\n",
    "print(\"Time: {:.2f} seconds.\".format(end_time - start_time))\n",
    "print(\"_________________________________________________________\")\n",
    "print(f\"State is recovered correctly: {state_is_recovered}\")\n",
    "\n"
   ]
  },
  {
   "cell_type": "code",
   "execution_count": null,
   "id": "506188ad-b3e5-440f-8037-098f9eee708d",
   "metadata": {},
   "outputs": [],
   "source": []
  }
 ],
 "metadata": {
  "kernelspec": {
   "display_name": "SageMath 10.6",
   "language": "sage",
   "name": "sagemath"
  },
  "language_info": {
   "codemirror_mode": {
    "name": "ipython",
    "version": 3
   },
   "file_extension": ".py",
   "mimetype": "text/x-python",
   "name": "python",
   "nbconvert_exporter": "python",
   "pygments_lexer": "ipython3",
   "version": "3.12.5"
  }
 },
 "nbformat": 4,
 "nbformat_minor": 5
}
